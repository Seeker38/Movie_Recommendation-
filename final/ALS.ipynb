{
 "cells": [
  {
   "cell_type": "code",
   "execution_count": 1,
   "metadata": {},
   "outputs": [],
   "source": [
    "import pyspark.sql.functions as sql_func\n",
    "from pyspark.sql.types import *\n",
    "from pyspark.ml.recommendation import ALS, ALSModel\n",
    "from pyspark.context import SparkContext\n",
    "from pyspark.sql.session import SparkSession\n",
    "from pyspark.mllib.evaluation import RegressionMetrics, RankingMetrics\n",
    "from pyspark.ml.evaluation import RegressionEvaluator\n",
    "\n",
    "\n",
    "\n",
    "from pyspark.sql import SparkSession\n",
    "from pyspark.sql.functions import udf, col, when\n",
    "from pyspark.sql.types import IntegerType, StringType, ArrayType, StructType, StructField\n",
    "\n",
    "\n",
    "import pandas as pd\n",
    "from ast import literal_eval\n",
    "from datetime import datetime"
   ]
  },
  {
   "cell_type": "code",
   "execution_count": 2,
   "metadata": {},
   "outputs": [],
   "source": [
    "sc = SparkContext('local')\n",
    "spark = SparkSession(sc)"
   ]
  },
  {
   "cell_type": "code",
   "execution_count": 3,
   "metadata": {},
   "outputs": [
    {
     "name": "stderr",
     "output_type": "stream",
     "text": [
      "C:\\Users\\Admin\\AppData\\Local\\Temp\\ipykernel_68256\\2482516538.py:3: DtypeWarning: Columns (10) have mixed types. Specify dtype option on import or set low_memory=False.\n",
      "  movies = pd.read_csv('../data/movies_metadata.csv').drop(['belongs_to_collection', 'homepage', 'imdb_id','production_countries', 'poster_path','production_companies', 'status', 'title', 'video'], axis=1).drop([19730, 29503, 35587]) # Incorrect data type\n"
     ]
    }
   ],
   "source": [
    "credits = pd.read_csv('../data/credits.csv')\n",
    "keywords = pd.read_csv('../data/keywords.csv')\n",
    "movies = pd.read_csv('../data/movies_metadata.csv').drop(['belongs_to_collection', 'homepage', 'imdb_id','production_countries', 'poster_path','production_companies', 'status', 'title', 'video'], axis=1).drop([19730, 29503, 35587]) # Incorrect data type\n",
    "movies['id'] = movies['id'].astype('int64')\n",
    "df = movies.merge(keywords, on='id').merge(credits, on='id')\n",
    "df['original_language'] = df['original_language'].fillna('')\n",
    "df['runtime'] = df['runtime'].fillna(0)\n",
    "df['tagline'] = df['tagline'].fillna('')\n",
    "df.dropna(inplace=True)\n",
    "def get_text(text, obj='name'):\n",
    "    text = literal_eval(text)\n",
    "    \n",
    "    if len(text) == 1:\n",
    "        for i in text:\n",
    "            return i[obj]\n",
    "    else:\n",
    "        s = []\n",
    "        for i in text:\n",
    "            s.append(i[obj])\n",
    "        return ', '.join(s)\n",
    "    \n",
    "df['genres'] = df['genres'].apply(get_text)\n",
    "df['crew'] = df['crew'].apply(get_text)\n",
    "df['spoken_languages'] = df['spoken_languages'].apply(get_text)\n",
    "df['keywords'] = df['keywords'].apply(get_text)\n",
    "\n",
    "\n",
    "df.drop('cast', axis=1, inplace=True)\n",
    "df = df[~df['original_title'].duplicated()]\n",
    "df = df.reset_index(drop=True)"
   ]
  },
  {
   "cell_type": "code",
   "execution_count": 5,
   "metadata": {},
   "outputs": [
    {
     "data": {
      "text/html": [
       "<div>\n",
       "<style scoped>\n",
       "    .dataframe tbody tr th:only-of-type {\n",
       "        vertical-align: middle;\n",
       "    }\n",
       "\n",
       "    .dataframe tbody tr th {\n",
       "        vertical-align: top;\n",
       "    }\n",
       "\n",
       "    .dataframe thead th {\n",
       "        text-align: right;\n",
       "    }\n",
       "</style>\n",
       "<table border=\"1\" class=\"dataframe\">\n",
       "  <thead>\n",
       "    <tr style=\"text-align: right;\">\n",
       "      <th></th>\n",
       "      <th>userId</th>\n",
       "      <th>movieId</th>\n",
       "      <th>rating</th>\n",
       "      <th>date</th>\n",
       "      <th>original_title</th>\n",
       "      <th>genres</th>\n",
       "      <th>overview</th>\n",
       "    </tr>\n",
       "  </thead>\n",
       "  <tbody>\n",
       "    <tr>\n",
       "      <th>0</th>\n",
       "      <td>1</td>\n",
       "      <td>110</td>\n",
       "      <td>1.0</td>\n",
       "      <td>2015-03-10 05:52:09</td>\n",
       "      <td>Trois couleurs : Rouge</td>\n",
       "      <td>Drama, Mystery, Romance</td>\n",
       "      <td>Red This is the third film from the trilogy by...</td>\n",
       "    </tr>\n",
       "    <tr>\n",
       "      <th>1</th>\n",
       "      <td>1</td>\n",
       "      <td>147</td>\n",
       "      <td>4.5</td>\n",
       "      <td>2015-03-10 06:07:15</td>\n",
       "      <td>Les Quatre Cents Coups</td>\n",
       "      <td>Drama</td>\n",
       "      <td>For young Parisian boy Antoine Doinel, life is...</td>\n",
       "    </tr>\n",
       "    <tr>\n",
       "      <th>2</th>\n",
       "      <td>1</td>\n",
       "      <td>858</td>\n",
       "      <td>5.0</td>\n",
       "      <td>2015-03-10 05:52:03</td>\n",
       "      <td>Sleepless in Seattle</td>\n",
       "      <td>Comedy, Drama, Romance</td>\n",
       "      <td>A young boy who tries to set his dad up on a d...</td>\n",
       "    </tr>\n",
       "    <tr>\n",
       "      <th>3</th>\n",
       "      <td>1</td>\n",
       "      <td>1246</td>\n",
       "      <td>5.0</td>\n",
       "      <td>2015-03-10 05:52:36</td>\n",
       "      <td>Rocky Balboa</td>\n",
       "      <td>Drama</td>\n",
       "      <td>When he loses a highly publicized virtual boxi...</td>\n",
       "    </tr>\n",
       "    <tr>\n",
       "      <th>4</th>\n",
       "      <td>1</td>\n",
       "      <td>1968</td>\n",
       "      <td>4.0</td>\n",
       "      <td>2015-03-10 06:02:28</td>\n",
       "      <td>Fools Rush In</td>\n",
       "      <td>Drama, Comedy, Romance</td>\n",
       "      <td>Alex Whitman (Matthew Perry) is a designer fro...</td>\n",
       "    </tr>\n",
       "  </tbody>\n",
       "</table>\n",
       "</div>"
      ],
      "text/plain": [
       "   userId  movieId  rating                date          original_title  \\\n",
       "0       1      110     1.0 2015-03-10 05:52:09  Trois couleurs : Rouge   \n",
       "1       1      147     4.5 2015-03-10 06:07:15  Les Quatre Cents Coups   \n",
       "2       1      858     5.0 2015-03-10 05:52:03    Sleepless in Seattle   \n",
       "3       1     1246     5.0 2015-03-10 05:52:36            Rocky Balboa   \n",
       "4       1     1968     4.0 2015-03-10 06:02:28           Fools Rush In   \n",
       "\n",
       "                    genres                                           overview  \n",
       "0  Drama, Mystery, Romance  Red This is the third film from the trilogy by...  \n",
       "1                    Drama  For young Parisian boy Antoine Doinel, life is...  \n",
       "2   Comedy, Drama, Romance  A young boy who tries to set his dad up on a d...  \n",
       "3                    Drama  When he loses a highly publicized virtual boxi...  \n",
       "4   Drama, Comedy, Romance  Alex Whitman (Matthew Perry) is a designer fro...  "
      ]
     },
     "execution_count": 5,
     "metadata": {},
     "output_type": "execute_result"
    }
   ],
   "source": [
    "ratings_df = pd.read_csv('../data/ratings.csv')\n",
    "\n",
    "ratings_df['date'] = ratings_df['timestamp'].apply(lambda x: datetime.fromtimestamp(x))\n",
    "ratings_df.drop('timestamp', axis=1, inplace=True)\n",
    "\n",
    "ratings_df = ratings_df.merge(df[['id', 'original_title', 'genres', 'overview']], left_on='movieId',right_on='id', how='left')\n",
    "ratings_df = ratings_df[~ratings_df['id'].isna()]\n",
    "ratings_df.drop('id', axis=1, inplace=True)\n",
    "ratings_df.reset_index(drop=True, inplace=True)\n",
    "\n",
    "ratings_df.head()"
   ]
  },
  {
   "cell_type": "code",
   "execution_count": 10,
   "metadata": {},
   "outputs": [
    {
     "name": "stdout",
     "output_type": "stream",
     "text": [
      "CSV file has been created.\n"
     ]
    }
   ],
   "source": [
    "\n",
    "ratings_df[['userId', 'movieId', 'rating']].to_csv('../data/newRatings.csv', index=False)\n",
    "\n",
    "print(\"CSV file has been created.\")"
   ]
  },
  {
   "cell_type": "code",
   "execution_count": 11,
   "metadata": {},
   "outputs": [],
   "source": [
    "data_schema = StructType([\n",
    "    StructField('userId', IntegerType(), False),\n",
    "    StructField('movieId', IntegerType(), False),\n",
    "    StructField('rating', FloatType(), False),\n",
    "])\n",
    "final_stat = spark.read.csv(\n",
    "    '../data/newRatings.csv', header=True, schema=data_schema\n",
    ").cache()\n",
    "\n",
    "ratings = (final_stat.select(\n",
    "    'userId',\n",
    "    'movieId',\n",
    "    'rating'\n",
    ")).cache()\n",
    "#   \n",
    "# print(type(final_stat))"
   ]
  },
  {
   "cell_type": "code",
   "execution_count": 12,
   "metadata": {},
   "outputs": [],
   "source": [
    "(training, test) = ratings.randomSplit([0.7, 0.3], seed=42)"
   ]
  },
  {
   "cell_type": "code",
   "execution_count": 13,
   "metadata": {},
   "outputs": [
    {
     "name": "stdout",
     "output_type": "stream",
     "text": [
      "MAE (Test) = 0.662852585545493\n"
     ]
    }
   ],
   "source": [
    "als = ALS(\n",
    "          rank=30,\n",
    "          maxIter=4, \n",
    "          regParam=0.1,\n",
    "          userCol='userId', \n",
    "          itemCol='movieId', \n",
    "          ratingCol='rating',\n",
    "          coldStartStrategy='drop',\n",
    "          implicitPrefs=False\n",
    "         )\n",
    "model = als.fit(training)\n",
    "\n",
    "predictions = model.transform(test)\n",
    "evaluator = RegressionEvaluator(metricName='mae', labelCol='rating',\n",
    "                                predictionCol='prediction')\n",
    "\n",
    "mae = evaluator.evaluate(predictions)\n",
    "print(f'MAE (Test) = {mae}')"
   ]
  },
  {
   "cell_type": "code",
   "execution_count": 35,
   "metadata": {},
   "outputs": [
    {
     "name": "stdout",
     "output_type": "stream",
     "text": [
      "+------+--------------------------------------------------------------------------------------------------------------------------------------------------------------------------------------------------------+\n",
      "|userId|recommendations                                                                                                                                                                                         |\n",
      "+------+--------------------------------------------------------------------------------------------------------------------------------------------------------------------------------------------------------+\n",
      "|123   |[{62206, 5.833834}, {173153, 5.6407146}, {98328, 5.5967803}, {89403, 5.5477943}, {132912, 5.4823127}, {166627, 5.3826385}, {137174, 5.341543}, {96717, 5.341543}, {172469, 5.299706}, {87358, 5.290487}]|\n",
      "+------+--------------------------------------------------------------------------------------------------------------------------------------------------------------------------------------------------------+\n",
      "\n",
      "MAE (User 123) = 1.0893456637859344\n"
     ]
    }
   ],
   "source": [
    "inputUserID = int(input())\n",
    "\n",
    "# Make predictions for user 123\n",
    "user_123_ratings = test.filter(test['userId'] == inputUserID)\n",
    "user_123_predictions = model.transform(user_123_ratings)\n",
    "\n",
    "# Show the top 10 recommendations for user 123\n",
    "top_10_recommendations = model.recommendForUserSubset(user_123_ratings, 10)\n",
    "top_10_recommendations.show(truncate=False)\n",
    "\n",
    "# Evaluate the model on the test set\n",
    "evaluator = RegressionEvaluator(metricName='mae', labelCol='rating', predictionCol='prediction')\n",
    "mae = evaluator.evaluate(user_123_predictions)\n",
    "print(f'MAE (User 123) = {mae}')"
   ]
  },
  {
   "cell_type": "code",
   "execution_count": 15,
   "metadata": {},
   "outputs": [
    {
     "name": "stdout",
     "output_type": "stream",
     "text": [
      "<class 'pyspark.sql.dataframe.DataFrame'>\n"
     ]
    }
   ],
   "source": [
    "print(type(top_10_recommendations) )"
   ]
  },
  {
   "cell_type": "code",
   "execution_count": 36,
   "metadata": {},
   "outputs": [
    {
     "name": "stdout",
     "output_type": "stream",
     "text": [
      "[(62206, 5.833834171295166), (173153, 5.640714645385742), (98328, 5.596780300140381), (89403, 5.547794342041016), (132912, 5.4823126792907715), (166627, 5.382638454437256), (137174, 5.341543197631836), (96717, 5.341543197631836), (172469, 5.299705982208252), (87358, 5.290486812591553)]\n"
     ]
    }
   ],
   "source": [
    "recommendations_list = []\n",
    "\n",
    "# Iterate through each row in the DataFrame\n",
    "for row in top_10_recommendations.rdd.collect():\n",
    "    user_id = row['userId']\n",
    "    user_recommendations = row['recommendations']\n",
    "    \n",
    "    # Extract movieId and rating from each recommendation\n",
    "    movie_ratings = [(recommendation['movieId'], recommendation['rating']) for recommendation in user_recommendations]\n",
    "    \n",
    "    # Extend the recommendations_list with movie_ratings\n",
    "    recommendations_list.extend(movie_ratings)\n",
    "\n",
    "# Display the recommendations list\n",
    "print(recommendations_list)"
   ]
  },
  {
   "cell_type": "code",
   "execution_count": 37,
   "metadata": {},
   "outputs": [
    {
     "data": {
      "text/html": [
       "<div>\n",
       "<style scoped>\n",
       "    .dataframe tbody tr th:only-of-type {\n",
       "        vertical-align: middle;\n",
       "    }\n",
       "\n",
       "    .dataframe tbody tr th {\n",
       "        vertical-align: top;\n",
       "    }\n",
       "\n",
       "    .dataframe thead th {\n",
       "        text-align: right;\n",
       "    }\n",
       "</style>\n",
       "<table border=\"1\" class=\"dataframe\">\n",
       "  <thead>\n",
       "    <tr style=\"text-align: right;\">\n",
       "      <th></th>\n",
       "      <th>original_title</th>\n",
       "      <th>genres</th>\n",
       "      <th>overview</th>\n",
       "      <th>predictionValue</th>\n",
       "    </tr>\n",
       "  </thead>\n",
       "  <tbody>\n",
       "    <tr>\n",
       "      <th>0</th>\n",
       "      <td>30 Minutes or Less</td>\n",
       "      <td>Action, Adventure, Comedy</td>\n",
       "      <td>Two fledgling criminals kidnap a pizza deliver...</td>\n",
       "      <td>5.833834</td>\n",
       "    </tr>\n",
       "    <tr>\n",
       "      <th>1</th>\n",
       "      <td>Phil Spector</td>\n",
       "      <td>TV Movie, Drama</td>\n",
       "      <td>A drama centered on the relationship between P...</td>\n",
       "      <td>5.640715</td>\n",
       "    </tr>\n",
       "    <tr>\n",
       "      <th>2</th>\n",
       "      <td>The Great Caruso</td>\n",
       "      <td>Drama, Music</td>\n",
       "      <td>Loosely traces the life of tenor Enrico Caruso...</td>\n",
       "      <td>5.596780</td>\n",
       "    </tr>\n",
       "    <tr>\n",
       "      <th>3</th>\n",
       "      <td>Dear God No!</td>\n",
       "      <td>Horror, Comedy</td>\n",
       "      <td>A gang of outlaw bikers pull a home invasion o...</td>\n",
       "      <td>5.547794</td>\n",
       "    </tr>\n",
       "    <tr>\n",
       "      <th>4</th>\n",
       "      <td>The Price of Sex</td>\n",
       "      <td>Documentary</td>\n",
       "      <td>The Price of Sex is a documentary about young ...</td>\n",
       "      <td>5.482313</td>\n",
       "    </tr>\n",
       "  </tbody>\n",
       "</table>\n",
       "</div>"
      ],
      "text/plain": [
       "       original_title                     genres  \\\n",
       "0  30 Minutes or Less  Action, Adventure, Comedy   \n",
       "1        Phil Spector            TV Movie, Drama   \n",
       "2    The Great Caruso               Drama, Music   \n",
       "3        Dear God No!             Horror, Comedy   \n",
       "4    The Price of Sex                Documentary   \n",
       "\n",
       "                                            overview  predictionValue  \n",
       "0  Two fledgling criminals kidnap a pizza deliver...         5.833834  \n",
       "1  A drama centered on the relationship between P...         5.640715  \n",
       "2  Loosely traces the life of tenor Enrico Caruso...         5.596780  \n",
       "3  A gang of outlaw bikers pull a home invasion o...         5.547794  \n",
       "4  The Price of Sex is a documentary about young ...         5.482313  "
      ]
     },
     "execution_count": 37,
     "metadata": {},
     "output_type": "execute_result"
    }
   ],
   "source": [
    "# Assuming you have a DataFrame called recommendations_df with columns ['movieId', 'rating']\n",
    "recommendations_df = pd.DataFrame(recommendations_list, columns=['movieId', 'predictionValue'])\n",
    "\n",
    "# Merge recommendations_df with df to get additional movie information\n",
    "result_df = pd.merge(recommendations_df, df[['id', 'original_title', 'genres', 'overview']], left_on='movieId', right_on='id', how='left')\n",
    "\n",
    "# Drop unnecessary columns including 'movieId'\n",
    "result_df.drop(['id', 'movieId'], axis=1, inplace=True)\n",
    "\n",
    "# Reorder columns with 'predictionValue' behind 'overview'\n",
    "result_df = result_df[['original_title', 'genres', 'overview', 'predictionValue']]\n",
    "\n",
    "# Drop duplicates and reset index\n",
    "result_df = result_df.drop_duplicates().reset_index(drop=True)\n",
    "\n",
    "# Display the result\n",
    "result_df.head()"
   ]
  },
  {
   "cell_type": "code",
   "execution_count": 40,
   "metadata": {},
   "outputs": [],
   "source": [
    "# Create a semicolon-separated string of 'original_title' column\n",
    "titles_str = str(inputUserID) + \";\"\n",
    "titles_str += ';'.join(result_df['original_title'].astype(str))\n",
    "\n",
    "# Write the string to a file\n",
    "with open('prediction.txt', 'w') as file:\n",
    "    file.write(titles_str)"
   ]
  }
 ],
 "metadata": {
  "kernelspec": {
   "display_name": "base",
   "language": "python",
   "name": "python3"
  },
  "language_info": {
   "codemirror_mode": {
    "name": "ipython",
    "version": 3
   },
   "file_extension": ".py",
   "mimetype": "text/x-python",
   "name": "python",
   "nbconvert_exporter": "python",
   "pygments_lexer": "ipython3",
   "version": "3.10.13"
  }
 },
 "nbformat": 4,
 "nbformat_minor": 2
}
